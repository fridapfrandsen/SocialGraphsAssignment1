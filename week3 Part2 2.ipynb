{
 "cells": [
  {
   "cell_type": "code",
   "execution_count": null,
   "metadata": {},
   "outputs": [],
   "source": [
    "import networkx as nx\n",
    "import matplotlib.pyplot as plt\n",
    "import numpy as np\n",
    "import random\n",
    "\n",
    "G = nx.Graph()\n",
    "G.add_nodes_from([1, 2])\n",
    "G.add_edge(1, 2)\n",
    "\n",
    "G.add_node(3)\n",
    "G.add_edge(1, 3)\n",
    "\n",
    "edge_list = list(G.edges)\n",
    "\n",
    "node_list = [node for edge in edge_list for node in edge]\n",
    "\n",
    "\n",
    "for i in range(4,5000):\n",
    "    G.add_node(i)\n",
    "    rnd_node = random.choice(node_list) \n",
    "    G.add_edge(i, rnd_node)\n",
    "    node_list.extend([i, rnd_node])\n",
    "\n",
    "# nx.draw(G, with_labels=False, node_color=\"blue\", node_size=30)\n",
    "# plt.show()\n",
    "\n",
    "degrees = [d for n, d in G.degree()]\n",
    "max_deg = max(degrees)\n",
    "min_deg = min(degrees)\n",
    "\n",
    "print(\"Max degree:\", max_deg, \"\\nMin degree:\", min_deg)\n",
    "\n",
    "counts, bin_edges = np.histogram(degrees, bins=range(max(degrees)+2))  \n",
    "plt.bar(bin_edges[:-1], counts, width=1.0, edgecolor='black')\n",
    "plt.xlabel(\"Degree k\")\n",
    "plt.ylabel(\"Number of nodes\")\n",
    "plt.show()\n",
    "\n",
    "plt.loglog(bin_edges[:-1], counts, marker='o', linestyle='None')\n",
    "plt.xlabel(\"Degree k\")\n",
    "plt.ylabel(\"Number of nodes\")\n",
    "plt.show()"
   ]
  },
  {
   "cell_type": "code",
   "execution_count": 147,
   "metadata": {},
   "outputs": [
    {
     "name": "stdout",
     "output_type": "stream",
     "text": [
      "Number of times the friendship paradox is true in our graph, out of a 1000 times: 860\n"
     ]
    }
   ],
   "source": [
    "count = 0\n",
    "\n",
    "for i in range(1000):\n",
    "    i = random.choice(list(G.nodes))\n",
    "    deg_i = G.degree(i)\n",
    "    neighbours = list(nx.neighbors(G, i))\n",
    "\n",
    "    degrees = [d for n, d in G.degree(neighbours)]\n",
    "    avg_deg = np.mean(degrees)\n",
    "\n",
    "    if avg_deg > deg_i:\n",
    "        count += 1\n",
    "\n",
    "print(\"Number of times the friendship paradox is true in our graph, out of a 1000 times:\", count)\n",
    "\n"
   ]
  },
  {
   "cell_type": "code",
   "execution_count": null,
   "metadata": {},
   "outputs": [],
   "source": []
  }
 ],
 "metadata": {
  "kernelspec": {
   "display_name": "base",
   "language": "python",
   "name": "python3"
  },
  "language_info": {
   "codemirror_mode": {
    "name": "ipython",
    "version": 3
   },
   "file_extension": ".py",
   "mimetype": "text/x-python",
   "name": "python",
   "nbconvert_exporter": "python",
   "pygments_lexer": "ipython3",
   "version": "3.13.5"
  },
  "orig_nbformat": 4
 },
 "nbformat": 4,
 "nbformat_minor": 2
}
